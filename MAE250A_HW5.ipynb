{
  "cells": [
    {
      "cell_type": "markdown",
      "metadata": {
        "id": "b8541ea9-b400-47b1-9986-3a47d533af74"
      },
      "source": [
        "****MAE 250F, HW 5 #4****\n",
        "<br>****David L. Tran****\n",
        "<br>****ID: 205-492-874****\n",
        "<br> ****NOTE:**** Answers to 4b-4f are below."
      ],
      "id": "b8541ea9-b400-47b1-9986-3a47d533af74"
    },
    {
      "cell_type": "code",
      "execution_count": 1,
      "metadata": {
        "colab": {
          "base_uri": "https://localhost:8080/",
          "height": 108
        },
        "id": "f7da47f4-c3e7-4086-a7ae-cd31c249bbf3",
        "outputId": "d141defc-90aa-4f4a-c264-b4e9c31eb381"
      },
      "outputs": [
        {
          "output_type": "error",
          "ename": "SyntaxError",
          "evalue": "invalid syntax (<ipython-input-1-4b30dc0e28df>, line 5)",
          "traceback": [
            "\u001b[0;36m  File \u001b[0;32m\"<ipython-input-1-4b30dc0e28df>\"\u001b[0;36m, line \u001b[0;32m5\u001b[0m\n\u001b[0;31m    using FluidDynTools\u001b[0m\n\u001b[0m          ^\u001b[0m\n\u001b[0;31mSyntaxError\u001b[0m\u001b[0;31m:\u001b[0m invalid syntax\n"
          ]
        }
      ],
      "source": [
        "using FluidDynTools\n",
        "using PotentialFlow\n",
        "using Plots"
      ],
      "id": "f7da47f4-c3e7-4086-a7ae-cd31c249bbf3"
    },
    {
      "cell_type": "code",
      "execution_count": null,
      "metadata": {
        "colab": {
          "base_uri": "https://localhost:8080/"
        },
        "id": "3a3059e7-68d2-4b81-aeeb-0a4536eee2a2",
        "outputId": "46699189-8a7e-4ec0-d557-50af70b9e129"
      },
      "outputs": [
        {
          "output_type": "execute_result",
          "data": {
            "text/plain": [
              "compute_ẋ! (generic function with 1 method)"
            ]
          },
          "metadata": {},
          "execution_count": 4
        }
      ],
      "source": [
        "function compute_ẋ!(ẋ, x, t)\n",
        "\n",
        "    # Zero the velocity\n",
        "    reset_velocity!(ẋ, x)\n",
        "\n",
        "    # Compute the self-induced velocity of the system\n",
        "    self_induce_velocity!(ẋ, x, t)\n",
        "\n",
        "end"
      ],
      "id": "3a3059e7-68d2-4b81-aeeb-0a4536eee2a2"
    },
    {
      "cell_type": "code",
      "execution_count": null,
      "metadata": {
        "colab": {
          "base_uri": "https://localhost:8080/"
        },
        "id": "9a5d6a03-864f-4eb4-8958-c7309b7e5e60",
        "outputId": "ccc19e06-ba60-4b44-9b36-f54ab5ccf5d4"
      },
      "outputs": [
        {
          "output_type": "execute_result",
          "data": {
            "text/plain": [
              "vortex_patch"
            ]
          },
          "metadata": {},
          "execution_count": 5
        }
      ],
      "source": [
        "\"\"\"\n",
        "    vortex_patch!(vort,zc,Γ,radius,nring[,ϵ=0])\n",
        "\n",
        "Create a circular patch of vortex blobs, returned in `vort`. The centroid of the patch is at `zc`, its strength\n",
        "(circulation) is `Γ`, and its radius is `radius`. The patch consists of `nring` rings; if `nring = 1`, the patch\n",
        "consists of only a single vortex blob at the centroid. Each blob is assigned radius `ϵ`, which is 0 by default.\n",
        "\"\"\"\n",
        "function vortex_patch!(vort,zc,Γ,radius,nring::Int;ϵ=0)\n",
        "    Δr = radius/(nring-1/2)\n",
        "    dΓ = Γ/(1+8*nring*(nring-1)/2)\n",
        "    push!(vort,Vortex.Blob(zc,dΓ,ϵ))\n",
        "    for ir in 1:nring-1\n",
        "        nθ = 8*ir\n",
        "        for j = 0:nθ-1\n",
        "            push!(vort,Vortex.Blob(zc + ir*Δr*exp(im*2π*j/nθ),dΓ,ϵ))\n",
        "        end\n",
        "    end\n",
        "    return vort\n",
        "end\n",
        "\n",
        "\"\"\"\n",
        "    vortex_patch(zc,Γ,radius,nring[,δ=0]) -> Vector{Vortex.Blob}\n",
        "\n",
        "Create a circular patch of vortex blobs. The centroid of the patch is at `zc`, its strength\n",
        "(circulation) is `Γ`, and its radius is `radius`. The patch consists of `nring` rings; if `nring = 1`, the patch\n",
        "consists of only a single vortex blob at the centroid. Each blob is assigned radius `δ`, which is 0 by default.\n",
        "\"\"\"\n",
        "vortex_patch(zc,Γ,radius,nring::Int;ϵ=0) = vortex_patch!(Vortex.Blob{Float64,Float64}[],zc,Γ,radius,nring,ϵ=ϵ)"
      ],
      "id": "9a5d6a03-864f-4eb4-8958-c7309b7e5e60"
    },
    {
      "cell_type": "code",
      "execution_count": null,
      "metadata": {
        "id": "5815d45f-a4da-47c1-b551-94289089b301"
      },
      "outputs": [],
      "source": [
        "r01 = r02 = 0.275 # initial radius of the vortex patch\n",
        "\n",
        "d0 = 1.0  # initial distance between patch centroids\n",
        "\n",
        "Γ01 = Γ02 = 1.0 # strength of patch.\n",
        "\n",
        "nring = 1   # number of rings in each patch.\n",
        "\n",
        "ϵ = 0.01 # blob radius\n",
        "\n",
        "Δt = 0.01*π^2*d0^2/abs(Γ01) # set the time step\n",
        "nothing"
      ],
      "id": "5815d45f-a4da-47c1-b551-94289089b301"
    },
    {
      "cell_type": "code",
      "execution_count": null,
      "metadata": {
        "colab": {
          "base_uri": "https://localhost:8080/",
          "height": 163
        },
        "id": "04ed00b2-1766-476e-b49a-61e5aaaa8c65",
        "outputId": "b82fd152-5a68-484a-8dc7-a071186b0741"
      },
      "outputs": [
        {
          "output_type": "error",
          "ename": "LoadError",
          "evalue": "UndefVarError: `Vortex` not defined",
          "traceback": [
            "UndefVarError: `Vortex` not defined",
            "",
            "Stacktrace:",
            " [1] vortex_patch(zc::ComplexF64, Γ::Float64, radius::Float64, nring::Int64; ϵ::Float64)",
            "   @ Main ./In[5]:28",
            " [2] top-level scope",
            "   @ In[7]:2"
          ]
        }
      ],
      "source": [
        "t = 0.0\n",
        "sys = (vortex_patch(0.5im*d0,Γ01,r01,nring,ϵ=ϵ),\n",
        "       vortex_patch(-0.5im*d0,Γ02,r02,nring,ϵ=ϵ))\n",
        "npatch = length(sys);"
      ],
      "id": "04ed00b2-1766-476e-b49a-61e5aaaa8c65"
    },
    {
      "cell_type": "code",
      "execution_count": null,
      "metadata": {
        "colab": {
          "base_uri": "https://localhost:8080/",
          "height": 127
        },
        "id": "bb2b270e-11c5-4df7-9554-9206225562d4",
        "outputId": "a0f265e6-30f2-450d-9c7d-903d8d69a0e7"
      },
      "outputs": [
        {
          "output_type": "error",
          "ename": "LoadError",
          "evalue": "UndefVarError: `sys` not defined",
          "traceback": [
            "UndefVarError: `sys` not defined",
            "",
            "Stacktrace:",
            " [1] top-level scope",
            "   @ In[8]:2"
          ]
        }
      ],
      "source": [
        "# Used for storage during time-marching\n",
        "sys₊ = deepcopy(sys)\n",
        "\n",
        "history = [deepcopy(sys)]\n",
        "\n",
        "# Set up a velocity structure that will work for 4th-order Runge-Kutta\n",
        "ẋs = [allocate_velocity(sys) for k = 1:4];\n",
        "\n",
        "# To keep track of time\n",
        "thist = [0.0];"
      ],
      "id": "bb2b270e-11c5-4df7-9554-9206225562d4"
    },
    {
      "cell_type": "code",
      "execution_count": null,
      "metadata": {
        "colab": {
          "background_save": true
        },
        "id": "4e936d3b-6aeb-4b96-878a-a62375d03dc8"
      },
      "outputs": [],
      "source": [
        "tf = 10\n",
        "T = 0:Δt:tf-Δt\n",
        "\n",
        "for tloc in T\n",
        "    TimeMarching.rk4!(sys₊, sys, t, Δt, compute_ẋ!, advect!, ẋs)\n",
        "\n",
        "    sys₊, sys = sys, sys₊\n",
        "\n",
        "    t += Δt\n",
        "\n",
        "    push!(history,deepcopy(sys))\n",
        "    push!(thist,t)\n",
        "end"
      ],
      "id": "4e936d3b-6aeb-4b96-878a-a62375d03dc8"
    },
    {
      "cell_type": "code",
      "execution_count": null,
      "metadata": {
        "colab": {
          "background_save": true
        },
        "id": "893e1cd9-240b-4774-9a1f-d8fd57e8a585"
      },
      "outputs": [],
      "source": [
        "# Choose with snapshot to plot. You can get different snapshots by putting in different indices\n",
        "# to the history array. `end` just chooses the last entry.\n",
        "sys_to_plot = history[end]\n",
        "\n",
        "plot(ratio=1,legend=:none,xlims = (-2,2), ylims = (-2,2), markerstrokewidth=0, markersize=2)\n",
        "\n",
        "# This plots patch number 1. The marker_z option gives the patch a distinct color.\n",
        "plot!(sys_to_plot[1],markerstrokewidth=0, markersize=2, marker_z = -1, color= cgrad(:YlGnBu_3,rev=true))\n",
        "\n",
        "# This plots patch number 2\n",
        "plot!(sys_to_plot[2],markerstrokewidth=0, markersize=2, marker_z = 1, color= cgrad(:YlGnBu_3,rev=true))\n",
        "\n",
        "\n",
        "# If you want to save a figure, you can use the savefig function\n",
        "#savefig(\"FigName.pdf\")"
      ],
      "id": "893e1cd9-240b-4774-9a1f-d8fd57e8a585"
    },
    {
      "cell_type": "code",
      "execution_count": null,
      "metadata": {
        "colab": {
          "background_save": true
        },
        "id": "dbc4707d-a60b-4793-86d3-300558f2510c"
      },
      "outputs": [],
      "source": [
        "function trajectory(history,patch::Int,elementID::Int)\n",
        "    elementID > length(history[end][patch]) && error(\"Element ID out of range\")\n",
        "    track = map(sys -> Elements.position(sys[patch])[elementID],history)\n",
        "end"
      ],
      "id": "dbc4707d-a60b-4793-86d3-300558f2510c"
    },
    {
      "cell_type": "code",
      "execution_count": null,
      "metadata": {
        "id": "20c8b158-23a8-4756-9e47-3351880fee50"
      },
      "outputs": [],
      "source": [
        "ps = plot(ratio=1,legend=:none,xlims = (-3,3), ylims = (-2,2));\n",
        "patch = 1\n",
        "elementID = 1\n",
        "traj = trajectory(history,patch,elementID)\n",
        "plot!(ps,real.(traj),imag.(traj),label=\"Traj of element \"*string(elementID)*\" of patch \"*string(patch));\n",
        "plot!(ps,history[end][patch][elementID:elementID],legend=true,label=\"Final location of element\")"
      ],
      "id": "20c8b158-23a8-4756-9e47-3351880fee50"
    },
    {
      "cell_type": "code",
      "execution_count": null,
      "metadata": {
        "id": "7e8742ff-ade9-42aa-a7c0-e555145b02d2"
      },
      "outputs": [],
      "source": [
        "function patch_impulse_history(history,patch::Int)\n",
        "    imp = map(sys -> Elements.impulse(sys[patch]),history)\n",
        "end"
      ],
      "id": "7e8742ff-ade9-42aa-a7c0-e555145b02d2"
    },
    {
      "cell_type": "code",
      "execution_count": null,
      "metadata": {
        "colab": {
          "base_uri": "https://localhost:8080/",
          "height": 109
        },
        "id": "54dfa80f-dc32-45c0-98c5-397b2b7af77d",
        "outputId": "b3a3cacf-0c3e-4d15-92e4-a76310e1b446"
      },
      "outputs": [
        {
          "ename": "SyntaxError",
          "evalue": "invalid syntax (<ipython-input-2-88cb3776da99>, line 4)",
          "output_type": "error",
          "traceback": [
            "\u001b[0;36m  File \u001b[0;32m\"<ipython-input-2-88cb3776da99>\"\u001b[0;36m, line \u001b[0;32m4\u001b[0m\n\u001b[0;31m    plot(real.(cent1),imag.(cent1),ratio=1,label=\"Patch 1\",legend=true)\u001b[0m\n\u001b[0m              ^\u001b[0m\n\u001b[0;31mSyntaxError\u001b[0m\u001b[0;31m:\u001b[0m invalid syntax\n"
          ]
        }
      ],
      "source": [
        "cent1 = im*patch_impulse_history(history,1)/Γ01\n",
        "cent2 = im*patch_impulse_history(history,2)/Γ02\n",
        "\n",
        "plot(real.(cent1),imag.(cent1),ratio=1,label=\"Patch 1\",legend=true)\n",
        "plot!(real.(cent2),imag.(cent2),label=\"Patch 2\")"
      ],
      "id": "54dfa80f-dc32-45c0-98c5-397b2b7af77d"
    },
    {
      "cell_type": "code",
      "execution_count": null,
      "metadata": {
        "id": "63b29510-3098-4609-8657-bfe359df1772"
      },
      "outputs": [],
      "source": [
        "plot(xlim=(0,2),ylim=(0,1.5),xticks=(0:0.25:2),legend=:false)\n",
        "plot!(Γ01*thist/(2π^2*d0^2),abs.(cent2-cent1),linewidth=2)\n",
        "plot!(xlabel=L\"tΓ_{01}/2π^2d_0^2\",ylabel=L\"d/d_0\") # if this line fails, just comment it out\n",
        "#savefig(\"CoRotateDCentroid.pdf\")"
      ],
      "id": "63b29510-3098-4609-8657-bfe359df1772"
    },
    {
      "cell_type": "markdown",
      "metadata": {
        "id": "f69f7211-c865-4082-ab72-f774f5bb8a99"
      },
      "source": [
        "****(4b)**** We can see that the $2\\pi^2d_0^2/\\Gamma_0$ time from (4a) to complete one orbit is correct from the above plot."
      ],
      "id": "f69f7211-c865-4082-ab72-f774f5bb8a99"
    },
    {
      "cell_type": "code",
      "execution_count": null,
      "metadata": {
        "colab": {
          "base_uri": "https://localhost:8080/",
          "height": 199
        },
        "id": "791790d8-3506-4af1-b599-4f9fea19115e",
        "outputId": "0725d75d-0aec-4f11-b331-2b875fb89947"
      },
      "outputs": [
        {
          "ename": "NameError",
          "evalue": "name 'π' is not defined",
          "output_type": "error",
          "traceback": [
            "\u001b[0;31m---------------------------------------------------------------------------\u001b[0m",
            "\u001b[0;31mNameError\u001b[0m                                 Traceback (most recent call last)",
            "\u001b[0;32m<ipython-input-3-22644432b47e>\u001b[0m in \u001b[0;36m<cell line: 11>\u001b[0;34m()\u001b[0m\n\u001b[1;32m      9\u001b[0m \u001b[0mϵ\u001b[0m \u001b[0;34m=\u001b[0m \u001b[0;36m0.01\u001b[0m \u001b[0;31m# blob radius\u001b[0m\u001b[0;34m\u001b[0m\u001b[0;34m\u001b[0m\u001b[0m\n\u001b[1;32m     10\u001b[0m \u001b[0;34m\u001b[0m\u001b[0m\n\u001b[0;32m---> 11\u001b[0;31m \u001b[0mΔt\u001b[0m \u001b[0;34m=\u001b[0m \u001b[0;36m0.01\u001b[0m\u001b[0;34m*\u001b[0m\u001b[0mπ\u001b[0m\u001b[0;34m^\u001b[0m\u001b[0;36m2\u001b[0m\u001b[0;34m*\u001b[0m\u001b[0md0\u001b[0m\u001b[0;34m^\u001b[0m\u001b[0;36m2\u001b[0m\u001b[0;34m/\u001b[0m\u001b[0mabs\u001b[0m\u001b[0;34m(\u001b[0m\u001b[0mΓ01\u001b[0m\u001b[0;34m)\u001b[0m \u001b[0;31m# set the time step\u001b[0m\u001b[0;34m\u001b[0m\u001b[0;34m\u001b[0m\u001b[0m\n\u001b[0m\u001b[1;32m     12\u001b[0m \u001b[0mnothing\u001b[0m\u001b[0;34m\u001b[0m\u001b[0;34m\u001b[0m\u001b[0m\n",
            "\u001b[0;31mNameError\u001b[0m: name 'π' is not defined"
          ]
        }
      ],
      "source": [
        "r01 = r02 = 0.2\n",
        "\n",
        "d0 = 1.0  # initial distance between patch centroids\n",
        "\n",
        "Γ01 = Γ02 = 1.0 # strength of patch.\n",
        "\n",
        "nring = 10   # number of rings in each patch.\n",
        "\n",
        "ϵ = 0.01 # blob radius\n",
        "\n",
        "Δt = 0.01*π^2*d0^2/abs(Γ01) # set the time step\n",
        "nothing"
      ],
      "id": "791790d8-3506-4af1-b599-4f9fea19115e"
    },
    {
      "cell_type": "code",
      "execution_count": null,
      "metadata": {
        "id": "2c8ebae1-8bbf-4432-bbe6-5663cf1e8070"
      },
      "outputs": [],
      "source": [
        "t = 0.0\n",
        "sys = (vortex_patch(0.5im*d0,Γ01,r01,nring,ϵ=ϵ),\n",
        "       vortex_patch(-0.5im*d0,Γ02,r02,nring,ϵ=ϵ))\n",
        "npatch = length(sys);"
      ],
      "id": "2c8ebae1-8bbf-4432-bbe6-5663cf1e8070"
    },
    {
      "cell_type": "code",
      "execution_count": null,
      "metadata": {
        "id": "273fb4fc-64b4-446e-834c-d6ed314f4ce1"
      },
      "outputs": [],
      "source": [
        "# Used for storage during time-marching\n",
        "sys₊ = deepcopy(sys)\n",
        "\n",
        "history = [deepcopy(sys)]\n",
        "\n",
        "# Set up a velocity structure that will work for 4th-order Runge-Kutta\n",
        "ẋs = [allocate_velocity(sys) for k = 1:4];\n",
        "\n",
        "# To keep track of time\n",
        "thist = [0.0];"
      ],
      "id": "273fb4fc-64b4-446e-834c-d6ed314f4ce1"
    },
    {
      "cell_type": "code",
      "execution_count": null,
      "metadata": {
        "id": "80c69c4e-e899-4745-ac85-ad62049635bf"
      },
      "outputs": [],
      "source": [
        "tf = 10\n",
        "T = 0:Δt:tf-Δt\n",
        "\n",
        "for tloc in T\n",
        "    TimeMarching.rk4!(sys₊, sys, t, Δt, compute_ẋ!, advect!, ẋs)\n",
        "\n",
        "    sys₊, sys = sys, sys₊\n",
        "\n",
        "    t += Δt\n",
        "\n",
        "    push!(history,deepcopy(sys))\n",
        "    push!(thist,t)\n",
        "\n",
        "end"
      ],
      "id": "80c69c4e-e899-4745-ac85-ad62049635bf"
    },
    {
      "cell_type": "code",
      "execution_count": null,
      "metadata": {
        "id": "472c70b9-a80c-4766-8205-6b02b702308f"
      },
      "outputs": [],
      "source": [
        "sys_to_plot = history[end]\n",
        "\n",
        "plot(ratio=1,legend=:none,xlims = (-2,2), ylims = (-2,2), markerstrokewidth=0, markersize=2)\n",
        "\n",
        "# This plots patch number 1. The marker_z option gives the patch a distinct color.\n",
        "plot!(sys_to_plot[1],markerstrokewidth=0, markersize=2, marker_z = -1, color= cgrad(:YlGnBu_3,rev=true))\n",
        "\n",
        "# This plots patch number 2\n",
        "plot!(sys_to_plot[2],markerstrokewidth=0, markersize=2, marker_z = 1, color= cgrad(:YlGnBu_3,rev=true))"
      ],
      "id": "472c70b9-a80c-4766-8205-6b02b702308f"
    },
    {
      "cell_type": "code",
      "execution_count": null,
      "metadata": {
        "id": "fdbb92a0-b32c-4fb5-975f-145235555587"
      },
      "outputs": [],
      "source": [
        "function trajectory(history,patch::Int,elementID::Int)\n",
        "    elementID > length(history[end][patch]) && error(\"Element ID out of range\")\n",
        "    track = map(sys -> Elements.position(sys[patch])[elementID],history)\n",
        "end"
      ],
      "id": "fdbb92a0-b32c-4fb5-975f-145235555587"
    },
    {
      "cell_type": "code",
      "execution_count": null,
      "metadata": {
        "id": "5d100c2e-687f-4e86-a92c-ae338877c3df"
      },
      "outputs": [],
      "source": [
        "ps = plot(ratio=1,legend=:none,xlims = (-3,3), ylims = (-2,2));\n",
        "patch = 1\n",
        "elementID = 1\n",
        "traj = trajectory(history,patch,elementID)\n",
        "plot!(ps,real.(traj),imag.(traj),label=\"Traj of element \"*string(elementID)*\" of patch \"*string(patch));\n",
        "plot!(ps,history[end][patch][elementID:elementID],legend=true,label=\"Final location of element\")"
      ],
      "id": "5d100c2e-687f-4e86-a92c-ae338877c3df"
    },
    {
      "cell_type": "code",
      "execution_count": null,
      "metadata": {
        "id": "63ff3b18-4bc1-42ac-bb3d-23173317fe10"
      },
      "outputs": [],
      "source": [
        "function patch_impulse_history(history,patch::Int)\n",
        "    imp = map(sys -> Elements.impulse(sys[patch]),history)\n",
        "end\n",
        "\n",
        "cent1 = im*patch_impulse_history(history,1)/Γ01\n",
        "cent2 = im*patch_impulse_history(history,2)/Γ02\n",
        "\n",
        "plot(real.(cent1),imag.(cent1),ratio=1,label=\"Patch 1\",legend=true)\n",
        "plot!(real.(cent2),imag.(cent2),label=\"Patch 2\")"
      ],
      "id": "63ff3b18-4bc1-42ac-bb3d-23173317fe10"
    },
    {
      "cell_type": "code",
      "execution_count": null,
      "metadata": {
        "id": "5f5fb1d7-0fda-47ac-b2f6-2ea9292aa1e5"
      },
      "outputs": [],
      "source": [
        "plot(xlim=(0,2),ylim=(0,1.5),xticks=(0:0.25:2),legend=:false)\n",
        "plot!(Γ01*thist/(2π^2*d0^2),abs.(cent2-cent1),linewidth=2)\n",
        "plot!(xlabel=L\"tΓ_{01}/2π^2d_0^2\",ylabel=L\"d/d_0\") # if this line fails, just comment it out\n",
        "#savefig(\"CoRotateDCentroid.pdf\")"
      ],
      "id": "5f5fb1d7-0fda-47ac-b2f6-2ea9292aa1e5"
    },
    {
      "cell_type": "markdown",
      "metadata": {
        "id": "ae021cb9-7b5f-43e3-ba38-6bce7fa035be"
      },
      "source": [
        "****(4ci)**** For the case where $r_0=0.2$, the centroid plot is a complete circle and the $d/d_0$ remains a constant. But, changing to $r_0=0.3$, we can see that the centroid plot indicates the two eventually colliding with each other at the origin; this is reflective in the $d/d_0$ plot decreasing to 0. If we increase to $r_0=0.4$, the centroids will continue to interact, and they will no longer be at the center."
      ],
      "id": "ae021cb9-7b5f-43e3-ba38-6bce7fa035be"
    },
    {
      "cell_type": "code",
      "execution_count": null,
      "metadata": {
        "id": "2e53a16c-8ff5-432a-a790-232316757b05"
      },
      "outputs": [],
      "source": [
        "r01 = r02 = 0.3\n",
        "\n",
        "d0 = 1.0  # initial distance between patch centroids\n",
        "\n",
        "Γ01 = Γ02 = 1.0 # strength of patch.\n",
        "\n",
        "nring = 10   # number of rings in each patch.\n",
        "\n",
        "ϵ = 0.01 # blob radius\n",
        "\n",
        "Δt = 0.01*π^2*d0^2/abs(Γ01) # set the time step\n",
        "nothing"
      ],
      "id": "2e53a16c-8ff5-432a-a790-232316757b05"
    },
    {
      "cell_type": "code",
      "execution_count": null,
      "metadata": {
        "id": "2ebf538f-e887-46d8-a18c-0d17bb24d3cf"
      },
      "outputs": [],
      "source": [
        "t = 0.0\n",
        "sys = (vortex_patch(0.5im*d0,Γ01,r01,nring,ϵ=ϵ),\n",
        "       vortex_patch(-0.5im*d0,Γ02,r02,nring,ϵ=ϵ))\n",
        "npatch = length(sys);"
      ],
      "id": "2ebf538f-e887-46d8-a18c-0d17bb24d3cf"
    },
    {
      "cell_type": "code",
      "execution_count": null,
      "metadata": {
        "id": "757decf8-db2c-4b3c-adba-8ba067c1c811"
      },
      "outputs": [],
      "source": [
        "# Used for storage during time-marching\n",
        "sys₊ = deepcopy(sys)\n",
        "\n",
        "history = [deepcopy(sys)]\n",
        "\n",
        "# Set up a velocity structure that will work for 4th-order Runge-Kutta\n",
        "ẋs = [allocate_velocity(sys) for k = 1:4];\n",
        "\n",
        "# To keep track of time\n",
        "thist = [0.0];"
      ],
      "id": "757decf8-db2c-4b3c-adba-8ba067c1c811"
    },
    {
      "cell_type": "code",
      "execution_count": null,
      "metadata": {
        "id": "814fd842-61a6-4379-8986-3c01983328f0"
      },
      "outputs": [],
      "source": [
        "tf = 10\n",
        "T = 0:Δt:tf-Δt\n",
        "\n",
        "for tloc in T\n",
        "    TimeMarching.rk4!(sys₊, sys, t, Δt, compute_ẋ!, advect!, ẋs)\n",
        "\n",
        "    sys₊, sys = sys, sys₊\n",
        "\n",
        "    t += Δt\n",
        "\n",
        "    push!(history,deepcopy(sys))\n",
        "    push!(thist,t)\n",
        "\n",
        "end"
      ],
      "id": "814fd842-61a6-4379-8986-3c01983328f0"
    },
    {
      "cell_type": "code",
      "execution_count": null,
      "metadata": {
        "id": "88ecc6cf-4be3-4222-b90f-0f7f70482d13"
      },
      "outputs": [],
      "source": [
        "sys_to_plot = history[end]\n",
        "\n",
        "plot(ratio=1,legend=:none,xlims = (-2,2), ylims = (-2,2), markerstrokewidth=0, markersize=2)\n",
        "\n",
        "# This plots patch number 1. The marker_z option gives the patch a distinct color.\n",
        "plot!(sys_to_plot[1],markerstrokewidth=0, markersize=2, marker_z = -1, color= cgrad(:YlGnBu_3,rev=true))\n",
        "\n",
        "# This plots patch number 2\n",
        "plot!(sys_to_plot[2],markerstrokewidth=0, markersize=2, marker_z = 1, color= cgrad(:YlGnBu_3,rev=true))"
      ],
      "id": "88ecc6cf-4be3-4222-b90f-0f7f70482d13"
    },
    {
      "cell_type": "code",
      "execution_count": null,
      "metadata": {
        "id": "f5a86d7b-10dc-4596-b53e-334082f32b21"
      },
      "outputs": [],
      "source": [
        "function trajectory(history,patch::Int,elementID::Int)\n",
        "    elementID > length(history[end][patch]) && error(\"Element ID out of range\")\n",
        "    track = map(sys -> Elements.position(sys[patch])[elementID],history)\n",
        "end"
      ],
      "id": "f5a86d7b-10dc-4596-b53e-334082f32b21"
    },
    {
      "cell_type": "code",
      "execution_count": null,
      "metadata": {
        "id": "4a0294d6-a08f-4456-9ef0-9adc6c133375"
      },
      "outputs": [],
      "source": [
        "ps = plot(ratio=1,legend=:none,xlims = (-3,3), ylims = (-2,2));\n",
        "patch = 1\n",
        "elementID = 1\n",
        "traj = trajectory(history,patch,elementID)\n",
        "plot!(ps,real.(traj),imag.(traj),label=\"Traj of element \"*string(elementID)*\" of patch \"*string(patch));\n",
        "plot!(ps,history[end][patch][elementID:elementID],legend=true,label=\"Final location of element\")"
      ],
      "id": "4a0294d6-a08f-4456-9ef0-9adc6c133375"
    },
    {
      "cell_type": "code",
      "execution_count": null,
      "metadata": {
        "id": "bc232b91-9999-4e0b-b2ae-55d4f477f10b"
      },
      "outputs": [],
      "source": [
        "function patch_impulse_history(history,patch::Int)\n",
        "    imp = map(sys -> Elements.impulse(sys[patch]),history)\n",
        "end\n",
        "\n",
        "cent1 = im*patch_impulse_history(history,1)/Γ01\n",
        "cent2 = im*patch_impulse_history(history,2)/Γ02\n",
        "\n",
        "plot(real.(cent1),imag.(cent1),ratio=1,label=\"Patch 1\",legend=true)\n",
        "plot!(real.(cent2),imag.(cent2),label=\"Patch 2\")"
      ],
      "id": "bc232b91-9999-4e0b-b2ae-55d4f477f10b"
    },
    {
      "cell_type": "code",
      "execution_count": null,
      "metadata": {
        "id": "8732a798-cc88-44a0-8759-3e7429f02b52"
      },
      "outputs": [],
      "source": [
        "plot(xlim=(0,2),ylim=(0,1.5),xticks=(0:0.25:2),legend=:false)\n",
        "plot!(Γ01*thist/(2π^2*d0^2),abs.(cent2-cent1),linewidth=2)\n",
        "plot!(xlabel=L\"tΓ_{01}/2π^2d_0^2\",ylabel=L\"d/d_0\") # if this line fails, just comment it out\n",
        "#savefig(\"CoRotateDCentroid.pdf\")"
      ],
      "id": "8732a798-cc88-44a0-8759-3e7429f02b52"
    },
    {
      "cell_type": "markdown",
      "metadata": {
        "id": "0265fb58-bfcd-4c11-856d-b5f6c6ff6317"
      },
      "source": [
        "****(4cii)**** We can change the number of rings to 20 and see if it has any effect:"
      ],
      "id": "0265fb58-bfcd-4c11-856d-b5f6c6ff6317"
    },
    {
      "cell_type": "code",
      "execution_count": null,
      "metadata": {
        "id": "89bf7432-6cb6-4cc2-aaa4-532eb33a1655"
      },
      "outputs": [],
      "source": [
        "r01 = r02 = 0.3\n",
        "\n",
        "d0 = 1.0  # initial distance between patch centroids\n",
        "\n",
        "Γ01 = Γ02 = 1.0 # strength of patch.\n",
        "\n",
        "nring = 20   # number of rings in each patch.\n",
        "\n",
        "ϵ = 0.01 # blob radius\n",
        "\n",
        "Δt = 0.01*π^2*d0^2/abs(Γ01) # set the time step\n",
        "nothing"
      ],
      "id": "89bf7432-6cb6-4cc2-aaa4-532eb33a1655"
    },
    {
      "cell_type": "code",
      "execution_count": null,
      "metadata": {
        "id": "b2a1a173-6ff4-4c4d-88ff-c337dacd8ca4"
      },
      "outputs": [],
      "source": [
        "t = 0.0\n",
        "sys = (vortex_patch(0.5im*d0,Γ01,r01,nring,ϵ=ϵ),\n",
        "       vortex_patch(-0.5im*d0,Γ02,r02,nring,ϵ=ϵ))\n",
        "npatch = length(sys);"
      ],
      "id": "b2a1a173-6ff4-4c4d-88ff-c337dacd8ca4"
    },
    {
      "cell_type": "code",
      "execution_count": null,
      "metadata": {
        "id": "8cc90028-7b94-46e4-95a7-2e4d7c0eed5c"
      },
      "outputs": [],
      "source": [
        "sys₊ = deepcopy(sys)\n",
        "\n",
        "history = [deepcopy(sys)]\n",
        "\n",
        "# Set up a velocity structure that will work for 4th-order Runge-Kutta\n",
        "ẋs = [allocate_velocity(sys) for k = 1:4];\n",
        "\n",
        "# To keep track of time\n",
        "thist = [0.0];"
      ],
      "id": "8cc90028-7b94-46e4-95a7-2e4d7c0eed5c"
    },
    {
      "cell_type": "code",
      "execution_count": null,
      "metadata": {
        "id": "1af89890-b208-46fc-8b33-621e48c6c5df"
      },
      "outputs": [],
      "source": [
        "tf = 10\n",
        "T = 0:Δt:tf-Δt\n",
        "\n",
        "for tloc in T\n",
        "    TimeMarching.rk4!(sys₊, sys, t, Δt, compute_ẋ!, advect!, ẋs)\n",
        "\n",
        "    sys₊, sys = sys, sys₊\n",
        "\n",
        "    t += Δt\n",
        "\n",
        "    push!(history,deepcopy(sys))\n",
        "    push!(thist,t)\n",
        "\n",
        "end"
      ],
      "id": "1af89890-b208-46fc-8b33-621e48c6c5df"
    },
    {
      "cell_type": "code",
      "execution_count": null,
      "metadata": {
        "id": "b38fe59d-935d-4432-a3d4-9b5f2f41448d"
      },
      "outputs": [],
      "source": [
        "sys_to_plot = history[end]\n",
        "\n",
        "plot(ratio=1,legend=:none,xlims = (-2,2), ylims = (-2,2), markerstrokewidth=0, markersize=2)\n",
        "\n",
        "# This plots patch number 1. The marker_z option gives the patch a distinct color.\n",
        "plot!(sys_to_plot[1],markerstrokewidth=0, markersize=2, marker_z = -1, color= cgrad(:YlGnBu_3,rev=true))\n",
        "\n",
        "# This plots patch number 2\n",
        "plot!(sys_to_plot[2],markerstrokewidth=0, markersize=2, marker_z = 1, color= cgrad(:YlGnBu_3,rev=true))"
      ],
      "id": "b38fe59d-935d-4432-a3d4-9b5f2f41448d"
    },
    {
      "cell_type": "code",
      "execution_count": null,
      "metadata": {
        "id": "cfa265ab-1bb1-4bb2-8c5c-9283bedd8002"
      },
      "outputs": [],
      "source": [
        "function trajectory(history,patch::Int,elementID::Int)\n",
        "    elementID > length(history[end][patch]) && error(\"Element ID out of range\")\n",
        "    track = map(sys -> Elements.position(sys[patch])[elementID],history)\n",
        "end"
      ],
      "id": "cfa265ab-1bb1-4bb2-8c5c-9283bedd8002"
    },
    {
      "cell_type": "code",
      "execution_count": null,
      "metadata": {
        "id": "6971a08d-1238-4173-9164-937f535051e4"
      },
      "outputs": [],
      "source": [
        "ps = plot(ratio=1,legend=:none,xlims = (-3,3), ylims = (-2,2));\n",
        "patch = 1\n",
        "elementID = 1\n",
        "traj = trajectory(history,patch,elementID)\n",
        "plot!(ps,real.(traj),imag.(traj),label=\"Traj of element \"*string(elementID)*\" of patch \"*string(patch));\n",
        "plot!(ps,history[end][patch][elementID:elementID],legend=true,label=\"Final location of element\")"
      ],
      "id": "6971a08d-1238-4173-9164-937f535051e4"
    },
    {
      "cell_type": "code",
      "execution_count": null,
      "metadata": {
        "id": "18d06804-0863-4eaf-afb2-8f8218b30259"
      },
      "outputs": [],
      "source": [
        "function patch_impulse_history(history,patch::Int)\n",
        "    imp = map(sys -> Elements.impulse(sys[patch]),history)\n",
        "end"
      ],
      "id": "18d06804-0863-4eaf-afb2-8f8218b30259"
    },
    {
      "cell_type": "code",
      "execution_count": null,
      "metadata": {
        "id": "b5eb12d4-f1cd-4e88-8b0e-9e921e1fa493"
      },
      "outputs": [],
      "source": [
        "cent1 = im*patch_impulse_history(history,1)/Γ01\n",
        "cent2 = im*patch_impulse_history(history,2)/Γ02\n",
        "\n",
        "plot(real.(cent1),imag.(cent1),ratio=1,label=\"Patch 1\",legend=true)\n",
        "plot!(real.(cent2),imag.(cent2),label=\"Patch 2\")"
      ],
      "id": "b5eb12d4-f1cd-4e88-8b0e-9e921e1fa493"
    },
    {
      "cell_type": "code",
      "execution_count": null,
      "metadata": {
        "id": "a46f30a9-5c62-4b77-ac39-846d16e0c67e"
      },
      "outputs": [],
      "source": [
        "plot(xlim=(0,2),ylim=(0,1.5),xticks=(0:0.25:2),legend=:false)\n",
        "plot!(Γ01*thist/(2π^2*d0^2),abs.(cent2-cent1),linewidth=2)\n",
        "plot!(xlabel=L\"tΓ_{01}/2π^2d_0^2\",ylabel=L\"d/d_0\") # if this line fails, just comment it out\n",
        "#savefig(\"CoRotateDCentroid.pdf\")"
      ],
      "id": "a46f30a9-5c62-4b77-ac39-846d16e0c67e"
    },
    {
      "cell_type": "markdown",
      "metadata": {
        "id": "415fce7e-d82e-4158-aae8-6e6944675132"
      },
      "source": [
        "****(4cii)**** Interestingly, we can see that increasing the number of rings to nrings = 20 had an effect on the $d/d_0$ plot. The $r_0$ critical value is now lower than when it was at nrings = 10."
      ],
      "id": "415fce7e-d82e-4158-aae8-6e6944675132"
    },
    {
      "cell_type": "markdown",
      "metadata": {
        "id": "284ed5b1-69da-4877-80cf-e386fb26ae8f"
      },
      "source": [
        "****(4ciii)**** Doubling the blob radius to $\\epsilon=0.02$, the following results are produced."
      ],
      "id": "284ed5b1-69da-4877-80cf-e386fb26ae8f"
    },
    {
      "cell_type": "code",
      "execution_count": null,
      "metadata": {
        "id": "2b042bf6-bb97-43ac-ab39-f5be42e62ad5"
      },
      "outputs": [],
      "source": [
        "r01 = r02 = 0.3 # initial radius of the vortex patch\n",
        "\n",
        "d0 = 1.0  # initial distance between patch centroids\n",
        "\n",
        "Γ01 = Γ02 = 1.0 # strength of patch.\n",
        "\n",
        "nring = 10   # number of rings in each patch.\n",
        "\n",
        "ϵ = 0.02 # blob radius\n",
        "\n",
        "Δt = 0.01*π^2*d0^2/abs(Γ01) # set the time step\n",
        "nothing"
      ],
      "id": "2b042bf6-bb97-43ac-ab39-f5be42e62ad5"
    },
    {
      "cell_type": "code",
      "execution_count": null,
      "metadata": {
        "id": "7ff76af0-4fb3-4b93-9202-52c3d3b4abce"
      },
      "outputs": [],
      "source": [
        "t = 0.0\n",
        "sys = (vortex_patch(0.5im*d0,Γ01,r01,nring,ϵ=ϵ),\n",
        "       vortex_patch(-0.5im*d0,Γ02,r02,nring,ϵ=ϵ))\n",
        "npatch = length(sys);"
      ],
      "id": "7ff76af0-4fb3-4b93-9202-52c3d3b4abce"
    },
    {
      "cell_type": "code",
      "execution_count": null,
      "metadata": {
        "id": "aca8519e-2667-446b-9aa5-b6b5db7d6be0"
      },
      "outputs": [],
      "source": [
        "sys₊ = deepcopy(sys)\n",
        "\n",
        "history = [deepcopy(sys)]\n",
        "\n",
        "# Set up a velocity structure that will work for 4th-order Runge-Kutta\n",
        "ẋs = [allocate_velocity(sys) for k = 1:4];\n",
        "\n",
        "# To keep track of time\n",
        "thist = [0.0];"
      ],
      "id": "aca8519e-2667-446b-9aa5-b6b5db7d6be0"
    },
    {
      "cell_type": "code",
      "execution_count": null,
      "metadata": {
        "id": "5ba41556-4c0e-40f6-a808-7fe763297549"
      },
      "outputs": [],
      "source": [
        "tf = 10\n",
        "T = 0:Δt:tf-Δt\n",
        "\n",
        "for tloc in T\n",
        "    TimeMarching.rk4!(sys₊, sys, t, Δt, compute_ẋ!, advect!, ẋs)\n",
        "\n",
        "    sys₊, sys = sys, sys₊\n",
        "\n",
        "    t += Δt\n",
        "\n",
        "    push!(history,deepcopy(sys))\n",
        "    push!(thist,t)\n",
        "\n",
        "end"
      ],
      "id": "5ba41556-4c0e-40f6-a808-7fe763297549"
    },
    {
      "cell_type": "code",
      "execution_count": null,
      "metadata": {
        "id": "2fdefc98-4b7e-4f30-80ea-e8999aae0924"
      },
      "outputs": [],
      "source": [
        "sys_to_plot = history[end]\n",
        "\n",
        "plot(ratio=1,legend=:none,xlims = (-2,2), ylims = (-2,2), markerstrokewidth=0, markersize=2)\n",
        "\n",
        "# This plots patch number 1. The marker_z option gives the patch a distinct color.\n",
        "plot!(sys_to_plot[1],markerstrokewidth=0, markersize=2, marker_z = -1, color= cgrad(:YlGnBu_3,rev=true))\n",
        "\n",
        "# This plots patch number 2\n",
        "plot!(sys_to_plot[2],markerstrokewidth=0, markersize=2, marker_z = 1, color= cgrad(:YlGnBu_3,rev=true))"
      ],
      "id": "2fdefc98-4b7e-4f30-80ea-e8999aae0924"
    },
    {
      "cell_type": "code",
      "execution_count": null,
      "metadata": {
        "id": "91e189a9-d2ac-46b3-9a1a-6bc3c90f6fda"
      },
      "outputs": [],
      "source": [
        "function trajectory(history,patch::Int,elementID::Int)\n",
        "    elementID > length(history[end][patch]) && error(\"Element ID out of range\")\n",
        "    track = map(sys -> Elements.position(sys[patch])[elementID],history)\n",
        "end"
      ],
      "id": "91e189a9-d2ac-46b3-9a1a-6bc3c90f6fda"
    },
    {
      "cell_type": "code",
      "execution_count": null,
      "metadata": {
        "id": "3b278ab9-16e5-4f4a-a0c9-9d3b960a8f1a"
      },
      "outputs": [],
      "source": [
        "ps = plot(ratio=1,legend=:none,xlims = (-3,3), ylims = (-2,2));\n",
        "patch = 1\n",
        "elementID = 1\n",
        "traj = trajectory(history,patch,elementID)\n",
        "plot!(ps,real.(traj),imag.(traj),label=\"Traj of element \"*string(elementID)*\" of patch \"*string(patch));\n",
        "plot!(ps,history[end][patch][elementID:elementID],legend=true,label=\"Final location of element\")"
      ],
      "id": "3b278ab9-16e5-4f4a-a0c9-9d3b960a8f1a"
    },
    {
      "cell_type": "code",
      "execution_count": null,
      "metadata": {
        "id": "aee4d3f2-3818-45ed-90b1-c8a8549edbe7"
      },
      "outputs": [],
      "source": [
        "function patch_impulse_history(history,patch::Int)\n",
        "    imp = map(sys -> Elements.impulse(sys[patch]),history)\n",
        "end"
      ],
      "id": "aee4d3f2-3818-45ed-90b1-c8a8549edbe7"
    },
    {
      "cell_type": "code",
      "execution_count": null,
      "metadata": {
        "id": "77aea4cd-f721-41fa-b280-2099b7171ae0"
      },
      "outputs": [],
      "source": [
        "cent1 = im*patch_impulse_history(history,1)/Γ01\n",
        "cent2 = im*patch_impulse_history(history,2)/Γ02\n",
        "\n",
        "plot(real.(cent1),imag.(cent1),ratio=1,label=\"Patch 1\",legend=true)\n",
        "plot!(real.(cent2),imag.(cent2),label=\"Patch 2\")"
      ],
      "id": "77aea4cd-f721-41fa-b280-2099b7171ae0"
    },
    {
      "cell_type": "code",
      "execution_count": null,
      "metadata": {
        "id": "4f85ac1b-0610-4e04-b099-ebe2848b65d1"
      },
      "outputs": [],
      "source": [
        "plot(xlim=(0,2),ylim=(0,1.5),xticks=(0:0.25:2),legend=:false)\n",
        "plot!(Γ01*thist/(2π^2*d0^2),abs.(cent2-cent1),linewidth=2)\n",
        "plot!(xlabel=L\"tΓ_{01}/2π^2d_0^2\",ylabel=L\"d/d_0\") # if this line fails, just comment it out\n",
        "#savefig(\"CoRotateDCentroid.pdf\")"
      ],
      "id": "4f85ac1b-0610-4e04-b099-ebe2848b65d1"
    },
    {
      "cell_type": "markdown",
      "metadata": {
        "id": "7534553a-0cdb-4317-a2d8-21bb9d5b859b"
      },
      "source": [
        "****(4ciii)**** Doubling the blob radius had a very minimal impact on the results, but they are somewhat noticeable. Perhaps if $\\epsilon$ was increased by a larger factor, a greater impact may be noticed."
      ],
      "id": "7534553a-0cdb-4317-a2d8-21bb9d5b859b"
    },
    {
      "cell_type": "markdown",
      "metadata": {
        "id": "21a09493-2c7f-4eba-9491-4bb6f4e30309"
      },
      "source": [
        "****(4d)**** For patches of equal but opposite strength, we simply set one with $-\\Gamma$ and the other with $\\Gamma$. So,"
      ],
      "id": "21a09493-2c7f-4eba-9491-4bb6f4e30309"
    },
    {
      "cell_type": "code",
      "execution_count": null,
      "metadata": {
        "id": "a754b840-0e81-4593-bf4c-21fbaf062733"
      },
      "outputs": [],
      "source": [
        "r01 = r02 = 0.3 # initial radius of the vortex patch\n",
        "\n",
        "d0 = 1.0  # initial distance between patch centroids\n",
        "\n",
        "Γ01 = 1.0 # strength of patch.\n",
        "Γ02 = -1.0\n",
        "\n",
        "nring = 10   # number of rings in each patch.\n",
        "\n",
        "ϵ = 0.01 # blob radius\n",
        "\n",
        "Δt = 0.01*π^2*d0^2/abs(Γ01) # set the time step\n",
        "nothing"
      ],
      "id": "a754b840-0e81-4593-bf4c-21fbaf062733"
    },
    {
      "cell_type": "code",
      "execution_count": null,
      "metadata": {
        "id": "6c90c14c-4cea-4e65-b5ff-550f0f930f22"
      },
      "outputs": [],
      "source": [
        "t = 0.0\n",
        "sys = (vortex_patch(0.5im*d0,Γ01,r01,nring,ϵ=ϵ),\n",
        "       vortex_patch(-0.5im*d0,Γ02,r02,nring,ϵ=ϵ))\n",
        "npatch = length(sys);"
      ],
      "id": "6c90c14c-4cea-4e65-b5ff-550f0f930f22"
    },
    {
      "cell_type": "code",
      "execution_count": null,
      "metadata": {
        "id": "17e8c49e-c387-42cd-828d-802e35f45801"
      },
      "outputs": [],
      "source": [
        "# Used for storage during time-marching\n",
        "sys₊ = deepcopy(sys)\n",
        "\n",
        "history = [deepcopy(sys)]\n",
        "\n",
        "# Set up a velocity structure that will work for 4th-order Runge-Kutta\n",
        "ẋs = [allocate_velocity(sys) for k = 1:4];\n",
        "\n",
        "# To keep track of time\n",
        "thist = [0.0];"
      ],
      "id": "17e8c49e-c387-42cd-828d-802e35f45801"
    },
    {
      "cell_type": "code",
      "execution_count": null,
      "metadata": {
        "id": "33216052-f09f-4f7f-8911-e1112fc52dd3"
      },
      "outputs": [],
      "source": [
        "tf = 10\n",
        "T = 0:Δt:tf-Δt\n",
        "\n",
        "for tloc in T\n",
        "    TimeMarching.rk4!(sys₊, sys, t, Δt, compute_ẋ!, advect!, ẋs)\n",
        "\n",
        "    sys₊, sys = sys, sys₊\n",
        "\n",
        "    t += Δt\n",
        "\n",
        "    push!(history,deepcopy(sys))\n",
        "    push!(thist,t)\n",
        "\n",
        "end"
      ],
      "id": "33216052-f09f-4f7f-8911-e1112fc52dd3"
    },
    {
      "cell_type": "code",
      "execution_count": null,
      "metadata": {
        "id": "8bd029fe-5c5c-40ea-8a90-99eb3b263c16"
      },
      "outputs": [],
      "source": [
        "sys_to_plot = history[end]\n",
        "\n",
        "plot(ratio=1,legend=:none,xlims = (-2,2), ylims = (-2,2), markerstrokewidth=0, markersize=2)\n",
        "\n",
        "# This plots patch number 1. The marker_z option gives the patch a distinct color.\n",
        "plot!(sys_to_plot[1],markerstrokewidth=0, markersize=2, marker_z = -1, color= cgrad(:YlGnBu_3,rev=true))\n",
        "\n",
        "# This plots patch number 2\n",
        "plot!(sys_to_plot[2],markerstrokewidth=0, markersize=2, marker_z = 1, color= cgrad(:YlGnBu_3,rev=true))\n"
      ],
      "id": "8bd029fe-5c5c-40ea-8a90-99eb3b263c16"
    },
    {
      "cell_type": "code",
      "execution_count": null,
      "metadata": {
        "id": "b43166f4-2115-4777-a8e3-48699e148090"
      },
      "outputs": [],
      "source": [
        "function trajectory(history,patch::Int,elementID::Int)\n",
        "    elementID > length(history[end][patch]) && error(\"Element ID out of range\")\n",
        "    track = map(sys -> Elements.position(sys[patch])[elementID],history)\n",
        "end"
      ],
      "id": "b43166f4-2115-4777-a8e3-48699e148090"
    },
    {
      "cell_type": "code",
      "execution_count": null,
      "metadata": {
        "id": "cd67dcc9-33a0-4bee-843a-cfc2f3a3c219"
      },
      "outputs": [],
      "source": [
        "ps = plot(ratio=1,legend=:none,xlims = (-3,3), ylims = (-2,2));\n",
        "patch = 1\n",
        "elementID = 1\n",
        "traj = trajectory(history,patch,elementID)\n",
        "plot!(ps,real.(traj),imag.(traj),label=\"Traj of element \"*string(elementID)*\" of patch \"*string(patch));\n",
        "plot!(ps,history[end][patch][elementID:elementID],legend=true,label=\"Final location of element\")"
      ],
      "id": "cd67dcc9-33a0-4bee-843a-cfc2f3a3c219"
    },
    {
      "cell_type": "code",
      "execution_count": null,
      "metadata": {
        "id": "70c1eda3-d0b5-48e4-90f1-6172887798a2"
      },
      "outputs": [],
      "source": [
        "function patch_impulse_history(history,patch::Int)\n",
        "    imp = map(sys -> Elements.impulse(sys[patch]),history)\n",
        "end"
      ],
      "id": "70c1eda3-d0b5-48e4-90f1-6172887798a2"
    },
    {
      "cell_type": "code",
      "execution_count": null,
      "metadata": {
        "id": "ed3eae66-d466-49ec-a0d1-a83dcae5dada"
      },
      "outputs": [],
      "source": [
        "cent1 = im*patch_impulse_history(history,1)/Γ01\n",
        "cent2 = im*patch_impulse_history(history,2)/Γ02\n",
        "\n",
        "plot(real.(cent1),imag.(cent1),ratio=1,label=\"Patch 1\",legend=true)\n",
        "plot!(real.(cent2),imag.(cent2),label=\"Patch 2\")"
      ],
      "id": "ed3eae66-d466-49ec-a0d1-a83dcae5dada"
    },
    {
      "cell_type": "code",
      "execution_count": null,
      "metadata": {
        "id": "720bab11-3927-4902-a762-e32e09595fd5"
      },
      "outputs": [],
      "source": [
        "plot(xlim=(0,2),ylim=(0,1.5),xticks=(0:0.25:2),legend=:false)\n",
        "plot!(Γ01*thist/(2π^2*d0^2),abs.(cent2-cent1),linewidth=2)\n",
        "plot!(xlabel=L\"tΓ_{01}/2π^2d_0^2\",ylabel=L\"d/d_0\") # if this line fails, just comment it out\n",
        "#savefig(\"CoRotateDCentroid.pdf\")"
      ],
      "id": "720bab11-3927-4902-a762-e32e09595fd5"
    },
    {
      "cell_type": "markdown",
      "metadata": {
        "id": "8af1bb0c-2c59-4d68-8f70-a20d98298f50"
      },
      "source": [
        "****(4d)**** The two vortices cancel each other and the distance between the centroids remains at $d=d_0$ throughout the time."
      ],
      "id": "8af1bb0c-2c59-4d68-8f70-a20d98298f50"
    },
    {
      "cell_type": "markdown",
      "metadata": {
        "id": "78785b49-cd2a-427c-aecd-f19dc75dda4b"
      },
      "source": [
        "****(4ei)**** For a square vortex patch, we have:"
      ],
      "id": "78785b49-cd2a-427c-aecd-f19dc75dda4b"
    },
    {
      "cell_type": "code",
      "execution_count": null,
      "metadata": {
        "id": "5bbd4201-2fe5-4882-9a65-53d978526e6c"
      },
      "outputs": [],
      "source": [
        "r01 = r02 = r03 = r04 = 0.3 # initial radius of the vortex patch\n",
        "\n",
        "d0 = 1.0  # initial distance between patch centroids\n",
        "\n",
        "Γ01 = Γ02 = 1.0 # strength of patch.\n",
        "Γ03 = Γ04 = -1.0\n",
        "\n",
        "nring = 1   # number of rings in each patch.\n",
        "\n",
        "ϵ = 0.01 # blob radius\n",
        "\n",
        "Δt = 0.01*π^2*d0^2/abs(Γ01) # set the time step\n",
        "nothing"
      ],
      "id": "5bbd4201-2fe5-4882-9a65-53d978526e6c"
    },
    {
      "cell_type": "code",
      "execution_count": null,
      "metadata": {
        "id": "ba63adc3-c9e1-4e03-b64c-f09315e16d74"
      },
      "outputs": [],
      "source": [
        "t = 0.0\n",
        "sys = (vortex_patch(-0.5*d0+0.5im*d0,Γ01,r01,nring,ϵ=ϵ),\n",
        "       vortex_patch(0.5*d0+0.5im*d0,Γ02,r02,nring,ϵ=ϵ),\n",
        "       vortex_patch(-0.5*d0-0.5im*d0,Γ03,r03,nring,ϵ=ϵ),\n",
        "       vortex_patch(0.5*d0-0.5im*d0,Γ04,r04,nring,ϵ=ϵ))\n",
        "npatch = length(sys);"
      ],
      "id": "ba63adc3-c9e1-4e03-b64c-f09315e16d74"
    },
    {
      "cell_type": "code",
      "execution_count": null,
      "metadata": {
        "id": "03c1bd1d-6a21-4947-a54c-26f52727d1d2"
      },
      "outputs": [],
      "source": [
        "sys₊ = deepcopy(sys)\n",
        "\n",
        "history = [deepcopy(sys)]\n",
        "\n",
        "# Set up a velocity structure that will work for 4th-order Runge-Kutta\n",
        "ẋs = [allocate_velocity(sys) for k = 1:4];\n",
        "\n",
        "# To keep track of time\n",
        "thist = [0.0];"
      ],
      "id": "03c1bd1d-6a21-4947-a54c-26f52727d1d2"
    },
    {
      "cell_type": "code",
      "execution_count": null,
      "metadata": {
        "id": "9307fc6b-0c81-4faf-8a53-05b255c2ba54"
      },
      "outputs": [],
      "source": [
        "tf = 10\n",
        "T = 0:Δt:tf-Δt\n",
        "\n",
        "for tloc in T\n",
        "    TimeMarching.rk4!(sys₊, sys, t, Δt, compute_ẋ!, advect!, ẋs)\n",
        "\n",
        "    sys₊, sys = sys, sys₊\n",
        "\n",
        "    t += Δt\n",
        "\n",
        "    push!(history,deepcopy(sys))\n",
        "    push!(thist,t)\n",
        "\n",
        "end"
      ],
      "id": "9307fc6b-0c81-4faf-8a53-05b255c2ba54"
    },
    {
      "cell_type": "code",
      "execution_count": null,
      "metadata": {
        "id": "acb286c0-0e1f-4b41-ad88-d803724699a5"
      },
      "outputs": [],
      "source": [
        "sys_to_plot = history[end]\n",
        "\n",
        "plot(ratio=1,legend=:none,xlims = (-3,3), ylims = (-2,2), markerstrokewidth=0, markersize=2)\n",
        "\n",
        "# This plots patch number 1. The marker_z option gives the patch a distinct color.\n",
        "plot!(sys_to_plot[1],markerstrokewidth=0, markersize=2, marker_z = -1, color= cgrad(:YlGnBu_3,rev=true))\n",
        "\n",
        "# This plots patch number 2\n",
        "plot!(sys_to_plot[2],markerstrokewidth=0, markersize=2, marker_z = 1, color= cgrad(:YlGnBu_3,rev=true))\n",
        "\n",
        "plot!(sys_to_plot[3],markerstrokewidth=0, markersize=2, marker_z = 0, color= cgrad(:YlGnBu_3,rev=true))\n",
        "\n",
        "plot!(sys_to_plot[4],markerstrokewidth=0, markersize=2, marker_z = 0.5, color= cgrad(:YlGnBu_3,rev=true))"
      ],
      "id": "acb286c0-0e1f-4b41-ad88-d803724699a5"
    },
    {
      "cell_type": "code",
      "execution_count": null,
      "metadata": {
        "id": "64c39478-638a-4ee3-8ecb-203661613ed7"
      },
      "outputs": [],
      "source": [
        "function trajectory(history,patch::Int,elementID::Int)\n",
        "    elementID > length(history[end][patch]) && error(\"Element ID out of range\")\n",
        "    track = map(sys -> Elements.position(sys[patch])[elementID],history)\n",
        "end"
      ],
      "id": "64c39478-638a-4ee3-8ecb-203661613ed7"
    },
    {
      "cell_type": "code",
      "execution_count": null,
      "metadata": {
        "id": "4131bcf9-6d61-4e60-95ff-6e35030b9f62"
      },
      "outputs": [],
      "source": [
        "ps = plot(ratio=1,legend=:none,xlims = (-3,3), ylims = (-2,2));\n",
        "patch = 1\n",
        "elementID = 1\n",
        "traj = trajectory(history,patch,elementID)\n",
        "plot!(ps,real.(traj),imag.(traj),label=\"Traj of element \"*string(elementID)*\" of patch \"*string(patch));\n",
        "plot!(ps,history[end][patch][elementID:elementID],legend=true,label=\"Final location of element\")"
      ],
      "id": "4131bcf9-6d61-4e60-95ff-6e35030b9f62"
    },
    {
      "cell_type": "code",
      "execution_count": null,
      "metadata": {
        "id": "76ceeb81-de1a-4c80-8613-1b381b53dfd4"
      },
      "outputs": [],
      "source": [
        "function patch_impulse_history(history,patch::Int)\n",
        "    imp = map(sys -> Elements.impulse(sys[patch]),history)\n",
        "end\n",
        "\n",
        "cent1 = im*patch_impulse_history(history,1)/Γ01\n",
        "cent2 = im*patch_impulse_history(history,2)/Γ02\n",
        "cent3 = im*patch_impulse_history(history,3)/Γ03\n",
        "cent4 = im*patch_impulse_history(history,4)/Γ04\n",
        "\n",
        "plot(real.(cent1),imag.(cent1),ratio=1,label=\"Patch 1\",legend=true)\n",
        "plot!(real.(cent2),imag.(cent2),label=\"Patch 2\")\n",
        "plot!(real.(cent3),imag.(cent3),label=\"Patch 3\")\n",
        "plot!(real.(cent4),imag.(cent4),label=\"Patch 4\")"
      ],
      "id": "76ceeb81-de1a-4c80-8613-1b381b53dfd4"
    },
    {
      "cell_type": "code",
      "execution_count": null,
      "metadata": {
        "id": "c8366dd2-6c3a-40a0-9476-a56958d64183"
      },
      "outputs": [],
      "source": [
        "plot(xlim=(0,2),ylim=(0,1.5),xticks=(0:0.25:2),legend=:false)\n",
        "plot!(Γ01*thist/(2π^2*d0^2),abs.(cent2-cent1),linewidth=2)\n",
        "plot!(xlabel=L\"tΓ_{01}/2π^2d_0^2\",ylabel=L\"d/d_0\") # if this line fails, just comment it out"
      ],
      "id": "c8366dd2-6c3a-40a0-9476-a56958d64183"
    },
    {
      "cell_type": "markdown",
      "metadata": {
        "id": "7048d71e-31bd-48bf-a49d-88182402812b"
      },
      "source": [
        "****(4ei)**** The point vortices mirror each across the horizontal axis (i.e., the pair of top vortices mirrors the pair of bottom vortices). The $d/d_0$ is also sinusoidal in nature, fluctuating back and forth ad nauseum."
      ],
      "id": "7048d71e-31bd-48bf-a49d-88182402812b"
    },
    {
      "cell_type": "markdown",
      "metadata": {
        "id": "50ca4534-d8d8-4784-9c7f-9ddd94289937"
      },
      "source": [
        "****(4eii)**** For nrings = 10, the following results are produced."
      ],
      "id": "50ca4534-d8d8-4784-9c7f-9ddd94289937"
    },
    {
      "cell_type": "code",
      "execution_count": null,
      "metadata": {
        "id": "df7af5ee-f7fd-4a46-b876-d2d2183621bc"
      },
      "outputs": [],
      "source": [
        "r01 = r02 = r03 = r04 = 0.3 # initial radius of the vortex patch\n",
        "\n",
        "d0 = 1.0  # initial distance between patch centroids\n",
        "\n",
        "Γ01 = Γ02 = 1.0 # strength of patch.\n",
        "Γ03 = Γ04 = -1.0\n",
        "\n",
        "nring = 10   # number of rings in each patch.\n",
        "\n",
        "ϵ = 0.01 # blob radius\n",
        "\n",
        "Δt = 0.01*π^2*d0^2/abs(Γ01) # set the time step\n",
        "nothing"
      ],
      "id": "df7af5ee-f7fd-4a46-b876-d2d2183621bc"
    },
    {
      "cell_type": "code",
      "execution_count": null,
      "metadata": {
        "id": "45bf2b79-959e-46ef-bfb9-efa08934c0fe"
      },
      "outputs": [],
      "source": [
        "t = 0.0\n",
        "sys = (vortex_patch(-0.5*d0+0.5im*d0,Γ01,r01,nring,ϵ=ϵ),\n",
        "       vortex_patch(0.5*d0+0.5im*d0,Γ02,r02,nring,ϵ=ϵ),\n",
        "       vortex_patch(-0.5*d0-0.5im*d0,Γ03,r03,nring,ϵ=ϵ),\n",
        "       vortex_patch(0.5*d0-0.5im*d0,Γ04,r04,nring,ϵ=ϵ))\n",
        "npatch = length(sys);"
      ],
      "id": "45bf2b79-959e-46ef-bfb9-efa08934c0fe"
    },
    {
      "cell_type": "code",
      "execution_count": null,
      "metadata": {
        "id": "d529f8fe-6165-436e-b6ba-0d62f0c0b364"
      },
      "outputs": [],
      "source": [
        "sys₊ = deepcopy(sys)\n",
        "\n",
        "history = [deepcopy(sys)]\n",
        "\n",
        "# Set up a velocity structure that will work for 4th-order Runge-Kutta\n",
        "ẋs = [allocate_velocity(sys) for k = 1:4];\n",
        "\n",
        "# To keep track of time\n",
        "thist = [0.0];"
      ],
      "id": "d529f8fe-6165-436e-b6ba-0d62f0c0b364"
    },
    {
      "cell_type": "code",
      "execution_count": null,
      "metadata": {
        "id": "eaafaf62-adba-43e0-aa08-b019070bd746"
      },
      "outputs": [],
      "source": [
        "tf = 10\n",
        "T = 0:Δt:tf-Δt\n",
        "\n",
        "for tloc in T\n",
        "    TimeMarching.rk4!(sys₊, sys, t, Δt, compute_ẋ!, advect!, ẋs)\n",
        "\n",
        "    sys₊, sys = sys, sys₊\n",
        "\n",
        "    t += Δt\n",
        "\n",
        "    push!(history,deepcopy(sys))\n",
        "    push!(thist,t)\n",
        "\n",
        "end"
      ],
      "id": "eaafaf62-adba-43e0-aa08-b019070bd746"
    },
    {
      "cell_type": "code",
      "execution_count": null,
      "metadata": {
        "id": "41c782ab-9485-4aaa-910e-d1c37861c3ab"
      },
      "outputs": [],
      "source": [
        "sys_to_plot = history[end]\n",
        "\n",
        "plot(ratio=1,legend=:none,xlims = (-3,3), ylims = (-2,2), markerstrokewidth=0, markersize=2)\n",
        "\n",
        "# This plots patch number 1. The marker_z option gives the patch a distinct color.\n",
        "plot!(sys_to_plot[1],markerstrokewidth=0, markersize=2, marker_z = -1, color= cgrad(:YlGnBu_3,rev=true))\n",
        "\n",
        "# This plots patch number 2\n",
        "plot!(sys_to_plot[2],markerstrokewidth=0, markersize=2, marker_z = 1, color= cgrad(:YlGnBu_3,rev=true))\n",
        "\n",
        "plot!(sys_to_plot[3],markerstrokewidth=0, markersize=2, marker_z = 0, color= cgrad(:YlGnBu_3,rev=true))\n",
        "\n",
        "plot!(sys_to_plot[4],markerstrokewidth=0, markersize=2, marker_z = 0.5, color= cgrad(:YlGnBu_3,rev=true))"
      ],
      "id": "41c782ab-9485-4aaa-910e-d1c37861c3ab"
    },
    {
      "cell_type": "code",
      "execution_count": null,
      "metadata": {
        "id": "be6a3e4d-c983-4c8a-ab56-63b2ac535098"
      },
      "outputs": [],
      "source": [
        "function trajectory(history,patch::Int,elementID::Int)\n",
        "    elementID > length(history[end][patch]) && error(\"Element ID out of range\")\n",
        "    track = map(sys -> Elements.position(sys[patch])[elementID],history)\n",
        "end"
      ],
      "id": "be6a3e4d-c983-4c8a-ab56-63b2ac535098"
    },
    {
      "cell_type": "code",
      "execution_count": null,
      "metadata": {
        "id": "320d48f6-3d24-484d-bd8c-81f65516e01a"
      },
      "outputs": [],
      "source": [
        "ps = plot(ratio=1,legend=:none,xlims = (-3,3), ylims = (-2,2));\n",
        "patch = 1\n",
        "elementID = 1\n",
        "traj = trajectory(history,patch,elementID)\n",
        "plot!(ps,real.(traj),imag.(traj),label=\"Traj of element \"*string(elementID)*\" of patch \"*string(patch));\n",
        "plot!(ps,history[end][patch][elementID:elementID],legend=true,label=\"Final location of element\")"
      ],
      "id": "320d48f6-3d24-484d-bd8c-81f65516e01a"
    },
    {
      "cell_type": "code",
      "execution_count": null,
      "metadata": {
        "id": "93f0306f-36e8-4b84-9327-dcecc0d86dfa"
      },
      "outputs": [],
      "source": [
        "function patch_impulse_history(history,patch::Int)\n",
        "    imp = map(sys -> Elements.impulse(sys[patch]),history)\n",
        "end\n",
        "\n",
        "cent1 = im*patch_impulse_history(history,1)/Γ01\n",
        "cent2 = im*patch_impulse_history(history,2)/Γ02\n",
        "cent3 = im*patch_impulse_history(history,3)/Γ03\n",
        "cent4 = im*patch_impulse_history(history,4)/Γ04\n",
        "\n",
        "plot(real.(cent1),imag.(cent1),ratio=1,label=\"Patch 1\",legend=true)\n",
        "plot!(real.(cent2),imag.(cent2),label=\"Patch 2\")\n",
        "plot!(real.(cent3),imag.(cent3),label=\"Patch 3\")\n",
        "plot!(real.(cent4),imag.(cent4),label=\"Patch 4\")"
      ],
      "id": "93f0306f-36e8-4b84-9327-dcecc0d86dfa"
    },
    {
      "cell_type": "code",
      "execution_count": null,
      "metadata": {
        "id": "67a1b75c-b782-419d-a4e2-6828ff9cba95"
      },
      "outputs": [],
      "source": [
        "plot(xlim=(0,2),ylim=(0,1.5),xticks=(0:0.25:2),legend=:false)\n",
        "plot!(Γ01*thist/(2π^2*d0^2),abs.(cent2-cent1),linewidth=2)\n",
        "plot!(xlabel=L\"tΓ_{01}/2π^2d_0^2\",ylabel=L\"d/d_0\")"
      ],
      "id": "67a1b75c-b782-419d-a4e2-6828ff9cba95"
    },
    {
      "cell_type": "markdown",
      "metadata": {
        "id": "4d14e118-2ca5-4830-b551-cc0ef1cb1639"
      },
      "source": [
        "****(4eii)**** Increasing the number of patches has a drastic impact on  the $d/d_0$ plot, and this plot reaches a critical value when the time $t$ is at a radius away (i.e., $t = r_0/T = 0.3$ where $T$ is the time it takes to complete one cycle.)"
      ],
      "id": "4d14e118-2ca5-4830-b551-cc0ef1cb1639"
    },
    {
      "cell_type": "markdown",
      "metadata": {
        "id": "99d7e14c-09bb-4d92-aad8-28eaacc9453b"
      },
      "source": [
        "****(4f)**** One final exotice case: we add a vortex at the center with circulation of strength $2\\Gamma_0:$"
      ],
      "id": "99d7e14c-09bb-4d92-aad8-28eaacc9453b"
    },
    {
      "cell_type": "code",
      "execution_count": null,
      "metadata": {
        "id": "5268c27d-a1a9-4aa2-aa1a-6a040963d02d"
      },
      "outputs": [],
      "source": [
        "r01 = r02 = r03 = r04 = r05 = 0.3 # initial radius of the vortex patch\n",
        "\n",
        "d0 = 1.0  # initial distance between patch centroids\n",
        "\n",
        "Γ01 = Γ02 = 1.0 # strength of patch.\n",
        "Γ03 = Γ04 = -1.0\n",
        "Γ05 = 2.0\n",
        "\n",
        "nring = 1   # number of rings in each patch.\n",
        "\n",
        "ϵ = 0.01 # blob radius\n",
        "\n",
        "Δt = 0.01*π^2*d0^2/abs(Γ01) # set the time step\n",
        "nothing"
      ],
      "id": "5268c27d-a1a9-4aa2-aa1a-6a040963d02d"
    },
    {
      "cell_type": "code",
      "execution_count": null,
      "metadata": {
        "id": "1c441f9f-1022-410c-bb74-5460ae2aa499"
      },
      "outputs": [],
      "source": [
        "t = 0.0\n",
        "sys = (vortex_patch(-0.5*d0+0.5im*d0,Γ01,r01,nring,ϵ=ϵ),\n",
        "       vortex_patch(0.5*d0+0.5im*d0,Γ02,r02,nring,ϵ=ϵ),\n",
        "       vortex_patch(-0.5*d0-0.5im*d0,Γ03,r03,nring,ϵ=ϵ),\n",
        "       vortex_patch(0.5*d0-0.5im*d0,Γ04,r04,nring,ϵ=ϵ),\n",
        "       vortex_patch(0,Γ05,r05,nring,ϵ=ϵ))\n",
        "npatch = length(sys);"
      ],
      "id": "1c441f9f-1022-410c-bb74-5460ae2aa499"
    },
    {
      "cell_type": "code",
      "execution_count": null,
      "metadata": {
        "id": "4d4f8cd2-eb89-4720-9f45-a5b828719a7c"
      },
      "outputs": [],
      "source": [
        "sys₊ = deepcopy(sys)\n",
        "\n",
        "history = [deepcopy(sys)]\n",
        "\n",
        "# Set up a velocity structure that will work for 4th-order Runge-Kutta\n",
        "ẋs = [allocate_velocity(sys) for k = 1:4];\n",
        "\n",
        "# To keep track of time\n",
        "thist = [0.0];"
      ],
      "id": "4d4f8cd2-eb89-4720-9f45-a5b828719a7c"
    },
    {
      "cell_type": "code",
      "execution_count": null,
      "metadata": {
        "id": "38dc6ea6-136e-4ef8-8bcc-333678825e05"
      },
      "outputs": [],
      "source": [
        "tf = 10\n",
        "T = 0:Δt:tf-Δt\n",
        "\n",
        "for tloc in T\n",
        "    TimeMarching.rk4!(sys₊, sys, t, Δt, compute_ẋ!, advect!, ẋs)\n",
        "\n",
        "    sys₊, sys = sys, sys₊\n",
        "\n",
        "    t += Δt\n",
        "\n",
        "    push!(history,deepcopy(sys))\n",
        "    push!(thist,t)\n",
        "\n",
        "end"
      ],
      "id": "38dc6ea6-136e-4ef8-8bcc-333678825e05"
    },
    {
      "cell_type": "code",
      "execution_count": null,
      "metadata": {
        "id": "80027184-8feb-479c-a1fb-0f67b3b8472a"
      },
      "outputs": [],
      "source": [
        "sys_to_plot = history[end]\n",
        "\n",
        "plot(ratio=1,legend=:none,xlims = (-3,3), ylims = (-2,2), markerstrokewidth=0, markersize=2)\n",
        "\n",
        "# This plots patch number 1. The marker_z option gives the patch a distinct color.\n",
        "plot!(sys_to_plot[1],markerstrokewidth=0, markersize=2, marker_z = -1, color= cgrad(:YlGnBu_3,rev=true))\n",
        "\n",
        "# This plots patch number 2\n",
        "plot!(sys_to_plot[2],markerstrokewidth=0, markersize=2, marker_z = 1, color= cgrad(:YlGnBu_3,rev=true))\n",
        "\n",
        "plot!(sys_to_plot[3],markerstrokewidth=0, markersize=2, marker_z = 0, color= cgrad(:YlGnBu_3,rev=true))\n",
        "\n",
        "plot!(sys_to_plot[4],markerstrokewidth=0, markersize=2, marker_z = 0.5, color= cgrad(:YlGnBu_3,rev=true))\n",
        "\n",
        "plot!(sys_to_plot[5],markerstrokewidth=0, markersize=2, marker_z = 0.25, color= cgrad(:YlGnBu_3,rev=true))"
      ],
      "id": "80027184-8feb-479c-a1fb-0f67b3b8472a"
    },
    {
      "cell_type": "code",
      "execution_count": null,
      "metadata": {
        "id": "da653565-73c6-473a-9081-d0bcbfb2fad7"
      },
      "outputs": [],
      "source": [
        "function trajectory(history,patch::Int,elementID::Int)\n",
        "    elementID > length(history[end][patch]) && error(\"Element ID out of range\")\n",
        "    track = map(sys -> Elements.position(sys[patch])[elementID],history)\n",
        "end"
      ],
      "id": "da653565-73c6-473a-9081-d0bcbfb2fad7"
    },
    {
      "cell_type": "code",
      "execution_count": null,
      "metadata": {
        "id": "96b0f7b3-af64-4897-8e11-22a5221506a5"
      },
      "outputs": [],
      "source": [
        "ps = plot(ratio=1,legend=:none,xlims = (-3,3), ylims = (-2,2));\n",
        "patch = 1\n",
        "elementID = 1\n",
        "traj = trajectory(history,patch,elementID)\n",
        "plot!(ps,real.(traj),imag.(traj),label=\"Traj of element \"*string(elementID)*\" of patch \"*string(patch));\n",
        "plot!(ps,history[end][patch][elementID:elementID],legend=true,label=\"Final location of element\")"
      ],
      "id": "96b0f7b3-af64-4897-8e11-22a5221506a5"
    },
    {
      "cell_type": "code",
      "execution_count": null,
      "metadata": {
        "id": "5b58b4be-1dc1-4fb8-a020-47b6fd149266"
      },
      "outputs": [],
      "source": [
        "function patch_impulse_history(history,patch::Int)\n",
        "    imp = map(sys -> Elements.impulse(sys[patch]),history)\n",
        "end\n",
        "\n",
        "cent1 = im*patch_impulse_history(history,1)/Γ01\n",
        "cent2 = im*patch_impulse_history(history,2)/Γ02\n",
        "cent3 = im*patch_impulse_history(history,3)/Γ03\n",
        "cent4 = im*patch_impulse_history(history,4)/Γ04\n",
        "cent5 = im*patch_impulse_history(history,5)/Γ05\n",
        "\n",
        "plot(real.(cent1),imag.(cent1),ratio=1,label=\"Patch 1\",legend=true)\n",
        "plot!(real.(cent2),imag.(cent2),label=\"Patch 2\")\n",
        "plot!(real.(cent3),imag.(cent3),label=\"Patch 3\")\n",
        "plot!(real.(cent4),imag.(cent4),label=\"Patch 4\")\n",
        "plot!(real.(cent5),imag.(cent5),label=\"Patch 5\")"
      ],
      "id": "5b58b4be-1dc1-4fb8-a020-47b6fd149266"
    },
    {
      "cell_type": "code",
      "execution_count": null,
      "metadata": {
        "id": "e90d33d2-4246-4b46-87bc-582c1c01e856"
      },
      "outputs": [],
      "source": [
        "plot(xlim=(0,2),ylim=(0,1.5),xticks=(0:0.25:2),legend=:false)\n",
        "plot!(Γ01*thist/(2π^2*d0^2),abs.(cent2-cent1),linewidth=2)\n",
        "plot!(xlabel=L\"tΓ_{01}/2π^2d_0^2\",ylabel=L\"d/d_0\")"
      ],
      "id": "e90d33d2-4246-4b46-87bc-582c1c01e856"
    }
  ],
  "metadata": {
    "colab": {
      "provenance": []
    },
    "kernelspec": {
      "display_name": "Julia 1.10.0",
      "language": "julia",
      "name": "julia-1.10"
    },
    "language_info": {
      "file_extension": ".jl",
      "mimetype": "application/julia",
      "name": "julia",
      "version": "1.10.0"
    }
  },
  "nbformat": 4,
  "nbformat_minor": 5
}